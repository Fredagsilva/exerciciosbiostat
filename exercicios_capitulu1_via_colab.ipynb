{
  "nbformat": 4,
  "nbformat_minor": 0,
  "metadata": {
    "colab": {
      "name": "exercicios capitulu1 via colab.ipynb",
      "provenance": [],
      "authorship_tag": "ABX9TyMFlzOqpRsy6oniuEZXg7+j",
      "include_colab_link": true
    },
    "kernelspec": {
      "name": "python3",
      "display_name": "Python 3"
    }
  },
  "cells": [
    {
      "cell_type": "markdown",
      "metadata": {
        "id": "view-in-github",
        "colab_type": "text"
      },
      "source": [
        "<a href=\"https://colab.research.google.com/github/Fredagsilva/exerciciosbiostat/blob/main/exercicios_capitulu1_via_colab.ipynb\" target=\"_parent\"><img src=\"https://colab.research.google.com/assets/colab-badge.svg\" alt=\"Open In Colab\"/></a>"
      ]
    },
    {
      "cell_type": "code",
      "metadata": {
        "id": "_UlogM4-36Y2"
      },
      "source": [
        "######## Analysis of Biological Data Labs -- Learning the tools --  Tutorial 1 ######\r\n",
        "#  Intro to R part 1\r\n",
        "# This file contains all of the commands in the Learning the Tools section of tutorial 1. \r\n",
        "\r\n",
        "# Command line\r\n",
        "\r\n",
        "2+2\r\n",
        "\r\n",
        "log(42)\r\n",
        "\r\n",
        "sqrt(4)\r\n",
        "\r\n",
        "4^3\r\n",
        "\r\n",
        "(1/(sqrt(2 * pi * (3.1)^2))) * exp(-(12-10.7)^2/(2*3.1))\r\n",
        "\r\n",
        "#In the formula above, pi is 3.1415...., and the exp() function raises the base\r\n",
        "#of the natural log (e = 2.78...) to the power of the value in the argument.\r\n",
        "\r\n",
        "# Comments\r\n",
        "\r\n",
        "# This is a comment.  Running this in R will have no effect.\r\n",
        "\r\n",
        "# Functions\r\n",
        "log(4, base = 10)\r\n",
        "\r\n",
        "# Defining variables\r\n",
        "\r\n",
        "x <- 4\r\n",
        "x + 3\r\n",
        "\r\n",
        "x <- 32\r\n",
        "x\r\n",
        "\r\n"
      ],
      "execution_count": null,
      "outputs": []
    }
  ]
}