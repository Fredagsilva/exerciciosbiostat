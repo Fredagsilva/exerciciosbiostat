{
  "nbformat": 4,
  "nbformat_minor": 0,
  "metadata": {
    "colab": {
      "name": "capitulo2.ipynb",
      "provenance": [],
      "authorship_tag": "ABX9TyPL6V549UbHWKXjVzmNJXnX",
      "include_colab_link": true
    },
    "kernelspec": {
      "name": "ir",
      "display_name": "R"
    }
  },
  "cells": [
    {
      "cell_type": "markdown",
      "metadata": {
        "id": "view-in-github",
        "colab_type": "text"
      },
      "source": [
        "<a href=\"https://colab.research.google.com/github/Fredagsilva/exerciciosbiostat/blob/main/capitulo2.ipynb\" target=\"_parent\"><img src=\"https://colab.research.google.com/assets/colab-badge.svg\" alt=\"Open In Colab\"/></a>"
      ]
    },
    {
      "cell_type": "code",
      "metadata": {
        "colab": {
          "base_uri": "https://localhost:8080/",
          "height": 505
        },
        "id": "RoADDawICFte",
        "outputId": "b228ad1b-c00f-4022-d3ec-aa91c3794bff"
      },
      "source": [
        "#temperatura em F para C\r\n",
        "temperaturaF <- c(78, 50, 45,2)\r\n",
        "temperaturaC <- (temperaturaF - 32) * 5/9\r\n",
        "temperaturaC\r\n",
        "\r\n",
        "install.packages(\"ggplot2\")\r\n",
        "library(ggplot2)\r\n",
        "plot(temperaturaC,temperaturaF)"
      ],
      "execution_count": 10,
      "outputs": [
        {
          "output_type": "display_data",
          "data": {
            "text/plain": [
              "[1]  25.555556  10.000000   7.222222 -16.666667"
            ],
            "text/latex": "\\begin{enumerate*}\n\\item 25.5555555555556\n\\item 10\n\\item 7.22222222222222\n\\item -16.6666666666667\n\\end{enumerate*}\n",
            "text/markdown": "1. 25.5555555555556\n2. 10\n3. 7.22222222222222\n4. -16.6666666666667\n\n\n",
            "text/html": [
              "<style>\n",
              ".list-inline {list-style: none; margin:0; padding: 0}\n",
              ".list-inline>li {display: inline-block}\n",
              ".list-inline>li:not(:last-child)::after {content: \"\\00b7\"; padding: 0 .5ex}\n",
              "</style>\n",
              "<ol class=list-inline><li>25.5555555555556</li><li>10</li><li>7.22222222222222</li><li>-16.6666666666667</li></ol>\n"
            ]
          },
          "metadata": {
            "tags": []
          }
        },
        {
          "output_type": "stream",
          "text": [
            "Installing package into ‘/usr/local/lib/R/site-library’\n",
            "(as ‘lib’ is unspecified)\n",
            "\n"
          ],
          "name": "stderr"
        },
        {
          "output_type": "display_data",
          "data": {
            "image/png": "[encoded data removed]",
            "text/plain": [
              "plot without title"
            ]
          },
          "metadata": {
            "tags": [],
            "image/png": {
              "width": 420,
              "height": 420
            }
          }
        }
      ]
    },
    {
      "cell_type": "code",
      "metadata": {
        "colab": {
          "base_uri": "https://localhost:8080/",
          "height": 283
        },
        "id": "-v__Rmx6ErBn",
        "outputId": "487ea356-0b42-4b70-8b1b-40b167f13af9"
      },
      "source": [
        "url <- \"https://raw.githubusercontent.com/Fredagsilva/exerciciosbiostat/main/caffeineStarbucks.csv\"\r\n",
        "cafedata <- read.csv2(url, )\r\n",
        "head(cafedata)"
      ],
      "execution_count": 18,
      "outputs": [
        {
          "output_type": "display_data",
          "data": {
            "text/plain": [
              "  day.caffeine_mg_16oz\n",
              "1 1,564.4             \n",
              "2 2,498.2             \n",
              "3 3,259.2             \n",
              "4 4,303.3             \n",
              "5 5,299.5             \n",
              "6 6,307.2             "
            ],
            "text/latex": "A data.frame: 6 × 1\n\\begin{tabular}{r|l}\n  & day.caffeine\\_mg\\_16oz\\\\\n  & <chr>\\\\\n\\hline\n\t1 & 1,564.4\\\\\n\t2 & 2,498.2\\\\\n\t3 & 3,259.2\\\\\n\t4 & 4,303.3\\\\\n\t5 & 5,299.5\\\\\n\t6 & 6,307.2\\\\\n\\end{tabular}\n",
            "text/markdown": "\nA data.frame: 6 × 1\n\n| <!--/--> | day.caffeine_mg_16oz &lt;chr&gt; |\n|---|---|\n| 1 | 1,564.4 |\n| 2 | 2,498.2 |\n| 3 | 3,259.2 |\n| 4 | 4,303.3 |\n| 5 | 5,299.5 |\n| 6 | 6,307.2 |\n\n",
            "text/html": [
              "<table class=\"dataframe\">\n",
              "<caption>A data.frame: 6 × 1</caption>\n",
              "<thead>\n",
              "\t<tr><th></th><th scope=col>day.caffeine_mg_16oz</th></tr>\n",
              "\t<tr><th></th><th scope=col>&lt;chr&gt;</th></tr>\n",
              "</thead>\n",
              "<tbody>\n",
              "\t<tr><th scope=row>1</th><td>1,564.4</td></tr>\n",
              "\t<tr><th scope=row>2</th><td>2,498.2</td></tr>\n",
              "\t<tr><th scope=row>3</th><td>3,259.2</td></tr>\n",
              "\t<tr><th scope=row>4</th><td>4,303.3</td></tr>\n",
              "\t<tr><th scope=row>5</th><td>5,299.5</td></tr>\n",
              "\t<tr><th scope=row>6</th><td>6,307.2</td></tr>\n",
              "</tbody>\n",
              "</table>\n"
            ]
          },
          "metadata": {
            "tags": []
          }
        }
      ]
    }
  ]
}